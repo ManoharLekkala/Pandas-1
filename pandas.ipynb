{
 "cells": [
  {
   "cell_type": "markdown",
   "metadata": {},
   "source": [
    "## Data processing :\n",
    "\n",
    "It is important part of analyzing the data, because data is not always available in desired format.\n",
    "Various processing are required before analyzing the data such as cleaning, restructuring or merging etc. \n",
    "Numpy, Scipy, Cython and Panda are the tools available in python which can be used fast processing of the data. \n",
    "Further, Pandas are built on the top of Numpy.\n",
    "\n",
    "The Pandas module mainly works with the tabular data, whereas the NumPy module works with the numerical data.\n",
    "NumPy library provides objects for multi-dimensional arrays, whereas Pandas is capable of \n",
    "offering an in-memory 2d table object called DataFrame. \n",
    "NumPy consumes less memory as compared to Pandas.\n",
    "\n",
    "\n",
    "Pandas provides rich set of functions to process various types of data. \n",
    "Further, working with Panda is fast, easy and more expressive than other tools. \n",
    "Pandas provides fast data processing as Numpy along with flexible data manipulation techniques as spreadsheets\n",
    "and relational databases. \n",
    "Lastly, pandas integrates well with matplotlib library, which makes it very handy tool for analyzing the data.\n",
    "\n",
    "\n",
    "Pandas provides two very useful data structures to process the data i.e. Series and DataFrame.\n",
    "\n",
    "Series : The Series is a one-dimensional array that can store various data types, including mix data types. \n",
    "The row labels in a Series are called the index. Any list, tuple and dictionary can be converted in to Series \n",
    "\n"
   ]
  },
  {
   "cell_type": "code",
   "execution_count": 2,
   "metadata": {},
   "outputs": [
    {
     "name": "stdout",
     "output_type": "stream",
     "text": [
      "0    Aravindhan\n",
      "1    2012-02-01\n",
      "2            34\n",
      "3          10.2\n",
      "dtype: object\n"
     ]
    }
   ],
   "source": [
    "import pandas as pd\n",
    "\n",
    "# converting tuple to Series\n",
    "# Tuples are used to store multiple items in a single variable\n",
    "# A tuple is a collection which is ordered and unchangeable.\n",
    "\n",
    "h = ('Aravindhan', '2012-02-01', 34, 10.2)\n",
    "s = pd.Series(h)\n",
    "print(s)"
   ]
  },
  {
   "cell_type": "code",
   "execution_count": 10,
   "metadata": {
    "scrolled": true
   },
   "outputs": [
    {
     "data": {
      "text/plain": [
       "shares       90\n",
       "price     304.2\n",
       "dtype: object"
      ]
     },
     "execution_count": 10,
     "metadata": {},
     "output_type": "execute_result"
    }
   ],
   "source": [
    "f[['shares', 'price']]"
   ]
  },
  {
   "cell_type": "code",
   "execution_count": 4,
   "metadata": {},
   "outputs": [
    {
     "data": {
      "text/plain": [
       "pandas.core.series.Series"
      ]
     },
     "execution_count": 4,
     "metadata": {},
     "output_type": "execute_result"
    }
   ],
   "source": [
    "type(s)"
   ]
  },
  {
   "cell_type": "code",
   "execution_count": 4,
   "metadata": {
    "scrolled": true
   },
   "outputs": [
    {
     "name": "stdout",
     "output_type": "stream",
     "text": [
      "         title  year\n",
      "4226   Macbeth  1913\n",
      "17166  Macbeth  1997\n",
      "25847  Macbeth  1998\n",
      "9322   Macbeth  2006\n",
      "11722  Macbeth  2013\n"
     ]
    }
   ],
   "source": [
    "import pandas as pd\n",
    "c = pd.read_csv(\"cast.csv\")\n",
    "t = pd.read_csv(\"titles.csv\")\n",
    "m = t [ t['title'] == 'Macbeth'].sort_values('year')\n",
    "print(m)"
   ]
  },
  {
   "cell_type": "code",
   "execution_count": 6,
   "metadata": {},
   "outputs": [
    {
     "name": "stdout",
     "output_type": "stream",
     "text": [
      "2016    2363\n",
      "2017    2138\n",
      "2015    1849\n",
      "2014    1701\n",
      "2013    1609\n",
      "2012    1500\n",
      "Name: year, dtype: int64\n"
     ]
    }
   ],
   "source": [
    "print(t['year'].value_counts().head(6))"
   ]
  },
  {
   "cell_type": "code",
   "execution_count": 8,
   "metadata": {},
   "outputs": [
    {
     "data": {
      "image/png": "[encoded data removed]",
      "text/plain": [
       "<Figure size 432x288 with 1 Axes>"
      ]
     },
     "metadata": {
      "needs_background": "light"
     },
     "output_type": "display_data"
    }
   ],
   "source": [
    "import matplotlib.pyplot as plt\n",
    "p = t['year'].value_counts()\n",
    "p.plot()\n"
   ]
  },
  {
   "cell_type": "code",
   "execution_count": 9,
   "metadata": {},
   "outputs": [
    {
     "data": {
      "text/plain": [
       "<AxesSubplot:>"
      ]
     },
     "execution_count": 9,
     "metadata": {},
     "output_type": "execute_result"
    },
    {
     "data": {
      "image/png": "[encoded data removed]",
      "text/plain": [
       "<Figure size 432x288 with 1 Axes>"
      ]
     },
     "metadata": {
      "needs_background": "light"
     },
     "output_type": "display_data"
    }
   ],
   "source": [
    "p.sort_index().plot()"
   ]
  },
  {
   "cell_type": "code",
   "execution_count": 15,
   "metadata": {},
   "outputs": [
    {
     "data": {
      "text/plain": [
       "<pandas.plotting._core.PlotAccessor object at 0x0000023B4AC1D4C0>"
      ]
     },
     "execution_count": 15,
     "metadata": {},
     "output_type": "execute_result"
    }
   ],
   "source": [
    "cg = c.groupby(['year']).size()\n",
    "cg.plot\n"
   ]
  },
  {
   "cell_type": "code",
   "execution_count": 17,
   "metadata": {},
   "outputs": [],
   "source": [
    "plt.show()"
   ]
  },
  {
   "cell_type": "code",
   "execution_count": 19,
   "metadata": {},
   "outputs": [
    {
     "name": "stdout",
     "output_type": "stream",
     "text": [
      "year\n",
      "2003    2\n",
      "2004    2\n",
      "2005    2\n",
      "2006    1\n",
      "2007    2\n",
      "dtype: int64\n"
     ]
    }
   ],
   "source": [
    "aa = c[c['name'] == 'Aaron Abrams']\n",
    "print(aa.groupby(['year']).size().head())"
   ]
  },
  {
   "cell_type": "code",
   "execution_count": 21,
   "metadata": {},
   "outputs": [
    {
     "name": "stdout",
     "output_type": "stream",
     "text": [
      "year  title                               \n",
      "2003  The In-Laws                             1\n",
      "      The Visual Bible: The Gospel of John    1\n",
      "2004  Resident Evil: Apocalypse               1\n",
      "      Siblings                                1\n",
      "2005  Cinderella Man                          1\n",
      "      Sabah                                   1\n",
      "2006  Zoom                                    1\n",
      "2007  Firehouse Dog                           1\n",
      "      Young People Fucking                    1\n",
      "2008  Flash of Genius                         1\n",
      "dtype: int64\n"
     ]
    }
   ],
   "source": [
    "print(aa.groupby(['year', 'title']).size().head(10))"
   ]
  },
  {
   "cell_type": "code",
   "execution_count": 22,
   "metadata": {},
   "outputs": [
    {
     "name": "stdout",
     "output_type": "stream",
     "text": [
      "year\n",
      "1912     6.0\n",
      "1913    14.0\n",
      "1914    39.0\n",
      "1915    14.0\n",
      "1916    35.0\n",
      "1917    23.0\n",
      "1918    16.0\n",
      "1919    22.0\n",
      "1920    21.0\n",
      "1921    22.0\n",
      "Name: n, dtype: float64\n"
     ]
    }
   ],
   "source": [
    "print(c.groupby (['year']).n.max().head(10))"
   ]
  },
  {
   "cell_type": "code",
   "execution_count": 23,
   "metadata": {},
   "outputs": [
    {
     "name": "stdout",
     "output_type": "stream",
     "text": [
      "year\n",
      "2012    701.0\n",
      "2013    299.0\n",
      "2014    383.0\n",
      "2015    297.0\n",
      "2016    188.0\n",
      "2017    620.0\n",
      "2018     21.0\n",
      "2019      6.0\n",
      "2020      NaN\n",
      "2023      NaN\n",
      "Name: n, dtype: float64\n"
     ]
    }
   ],
   "source": [
    "print(c.groupby (['year']).n.max().tail(10))"
   ]
  },
  {
   "cell_type": "code",
   "execution_count": 25,
   "metadata": {},
   "outputs": [
    {
     "name": "stdout",
     "output_type": "stream",
     "text": [
      "year  title                                              \n",
      "1912  From the Manger to the Cross; or, Jesus of Nazareth     6.0\n",
      "      Karnevalsnattens Gaade                                  NaN\n",
      "      Satana                                                  6.0\n",
      "1913  Ballettens Datter                                       NaN\n",
      "      Die Augen des Ole Brandis                               NaN\n",
      "      Hamlet                                                 14.0\n",
      "      Katastrofen i Dokken                                    4.0\n",
      "      Nelly's Forlovelse                                      NaN\n",
      "      Plus fort que la haine                                  2.0\n",
      "      Prins for en dag                                        1.0\n",
      "      Prinsesse Elena                                         2.0\n",
      "      The Girl of the Sunny South                             5.0\n",
      "Name: n, dtype: float64\n"
     ]
    }
   ],
   "source": [
    "#MIN,MEAN,COUNT,SUM\n",
    "print(c.groupby (['year','title']).n.min().head(12))"
   ]
  },
  {
   "cell_type": "code",
   "execution_count": 26,
   "metadata": {},
   "outputs": [
    {
     "name": "stdout",
     "output_type": "stream",
     "text": [
      "year  title                                            \n",
      "2019  Nostradamus Mission 2: Descendant Unleashed         NaN\n",
      "      Paranoia                                            NaN\n",
      "      Rise of Evil: Movie                                 NaN\n",
      "      Scream, Spermula, Scream! Rise of the Ghoul Squad   NaN\n",
      "      The Circle Jerk                                     NaN\n",
      "      Thee Recluse: Thieves in the Temple.                NaN\n",
      "      Toy Story 4                                         NaN\n",
      "      Why Bully Me                                        NaN\n",
      "2020  Bses Slwl I: The Musical Journey                    NaN\n",
      "      Gordon's Quest                                      NaN\n",
      "      Nostradamus Mission 3: Alien Invasion               NaN\n",
      "      Roses in the Concrete                               NaN\n",
      "2023  Inside Me                                           NaN\n",
      "Name: n, dtype: float64\n"
     ]
    }
   ],
   "source": [
    "print(c.groupby (['year','title']).n.min().tail(13))"
   ]
  },
  {
   "cell_type": "code",
   "execution_count": 29,
   "metadata": {},
   "outputs": [
    {
     "name": "stdout",
     "output_type": "stream",
     "text": [
      "year  title                                              \n",
      "1912  From the Manger to the Cross; or, Jesus of Nazareth    1\n",
      "      Karnevalsnattens Gaade                                 0\n",
      "      Satana                                                 1\n",
      "1913  Ballettens Datter                                      0\n",
      "      Die Augen des Ole Brandis                              0\n",
      "      Hamlet                                                 1\n",
      "      Katastrofen i Dokken                                   1\n",
      "      Nelly's Forlovelse                                     0\n",
      "      Plus fort que la haine                                 1\n",
      "      Prins for en dag                                       2\n",
      "      Prinsesse Elena                                        1\n",
      "      The Girl of the Sunny South                            1\n",
      "1914  After the Ball                                         3\n",
      "Name: n, dtype: int64\n"
     ]
    }
   ],
   "source": [
    "print(c.groupby (['year','title']).n.count().head(13))"
   ]
  },
  {
   "cell_type": "code",
   "execution_count": 5,
   "metadata": {},
   "outputs": [
    {
     "name": "stdout",
     "output_type": "stream",
     "text": [
      "name        Manohar\n",
      "roll      102118034\n",
      "size             34\n",
      "weight        231.2\n",
      "dtype: object\n"
     ]
    }
   ],
   "source": [
    "# convert dictionaries to series\n",
    "# Dictionary in Python is an unordered collection of data values, used to store data values like a map\n",
    "t = {'name' : 'Manohar', 'roll' : '102118034', 'size':'34', 'weight': '231.2'}\n",
    "set = pd.Series(t)\n",
    "print(set)"
   ]
  },
  {
   "cell_type": "code",
   "execution_count": 6,
   "metadata": {},
   "outputs": [
    {
     "name": "stdout",
     "output_type": "stream",
     "text": [
      "name                    Manohar\n",
      "roll                  102118034\n",
      "branch     Chemical engineering\n",
      "college              NIT Trichy\n",
      "dtype: object\n"
     ]
    }
   ],
   "source": [
    "# lists can be changed, and tuples cannot be changed\n",
    "m = ['Manohar','102118034','Chemical engineering','NIT Trichy']\n",
    "m = pd.Series(m, index = ['name','roll','branch', 'college'])\n",
    "print(m)"
   ]
  },
  {
   "cell_type": "code",
   "execution_count": 7,
   "metadata": {
    "scrolled": true
   },
   "outputs": [
    {
     "name": "stdout",
     "output_type": "stream",
     "text": [
      "name              FB\n",
      "date      2001-08-02\n",
      "shares            90\n",
      "price          304.2\n",
      "dtype: object\n"
     ]
    }
   ],
   "source": [
    "f = ['FB', '2001-08-02', 90, 304.2]\n",
    "f = pd.Series(f, index = ['name', 'date', 'shares', 'price'])\n",
    "print(f)"
   ]
  },
  {
   "cell_type": "code",
   "execution_count": 8,
   "metadata": {
    "scrolled": true
   },
   "outputs": [
    {
     "name": "stdout",
     "output_type": "stream",
     "text": [
      "FB\n"
     ]
    }
   ],
   "source": [
    "print(f['name'])"
   ]
  },
  {
   "cell_type": "code",
   "execution_count": 9,
   "metadata": {
    "scrolled": true
   },
   "outputs": [
    {
     "data": {
      "text/plain": [
       "name      Manohar\n",
       "roll    102118034\n",
       "dtype: object"
      ]
     },
     "execution_count": 9,
     "metadata": {},
     "output_type": "execute_result"
    }
   ],
   "source": [
    "m[['name','roll']]"
   ]
  },
  {
   "cell_type": "code",
   "execution_count": 10,
   "metadata": {
    "scrolled": true
   },
   "outputs": [
    {
     "data": {
      "text/plain": [
       "shares       90\n",
       "price     304.2\n",
       "dtype: object"
      ]
     },
     "execution_count": 10,
     "metadata": {},
     "output_type": "execute_result"
    }
   ],
   "source": [
    "f[['shares', 'price']]"
   ]
  },
  {
   "cell_type": "markdown",
   "metadata": {},
   "source": [
    "## Dataframe\n",
    "DataFrame is the widely used data structure of pandas. \n",
    "Note that, Series are used to work with one dimensional array, whereas DataFrame can be used with two dimensional arrays.\n",
    "DataFrame has two different index i.e. column-index and row-index\n",
    "\n",
    "The most common way to create a DataFrame is by using the dictionary of equal-length list as shown below. \n",
    "Further, all the spreadsheets and text files are read as DataFrame, therefore it is very important data structure of pandas."
   ]
  },
  {
   "cell_type": "code",
   "execution_count": 11,
   "metadata": {},
   "outputs": [
    {
     "name": "stdout",
     "output_type": "stream",
     "text": [
      "      name        date  shares  price\n",
      "0  Manohar  2000-10-23     100   12.3\n",
      "1   Madhav  2000-02-10      30   10.3\n",
      "2   Venkat  2010-04-09      90   32.2\n"
     ]
    }
   ],
   "source": [
    "import pandas as pd \n",
    "data = { 'name' : ['Manohar', 'Madhav', 'Venkat'],\n",
    "        'date' : ['2000-10-23', '2000-02-10', '2010-04-09'],\n",
    "        'shares' : [100, 30, 90],\n",
    "         'price' : [12.3, 10.3, 32.2] }\n",
    "\n",
    "df = pd.DataFrame(data)\n",
    "print(df)"
   ]
  },
  {
   "cell_type": "code",
   "execution_count": 12,
   "metadata": {},
   "outputs": [
    {
     "name": "stdout",
     "output_type": "stream",
     "text": [
      "      name        date shares  price\n",
      "0  Manohar  2000-10-23    100   12.3\n",
      "1   Madhav  2000-02-10    100   10.3\n",
      "2   Venkat  2010-04-09    100   32.2\n",
      "       name        date shares  price\n",
      "1.  Manohar  2000-10-23    100   12.3\n",
      "2.   Madhav  2000-02-10    100   10.3\n",
      "3.   Venkat  2010-04-09    100   32.2\n"
     ]
    }
   ],
   "source": [
    "# Additional columns can be added after defining a DataFrame as below,\n",
    "\n",
    "df['shares'] = '100'\n",
    "print(df)\n",
    "\n",
    "# we can change the indices from 0,1,2 to 1.,2.,3. and in any other format\n",
    "df.index = ['1.','2.','3.']\n",
    "print(df)"
   ]
  },
  {
   "cell_type": "code",
   "execution_count": 14,
   "metadata": {},
   "outputs": [
    {
     "name": "stdout",
     "output_type": "stream",
     "text": [
      "               date shares  price\n",
      "name                             \n",
      "Manohar  2000-10-23    100   12.3\n",
      "Madhav   2000-02-10    100   10.3\n",
      "Venkat   2010-04-09    100   32.2\n"
     ]
    }
   ],
   "source": [
    "# any column of the DataFrame can be set as index using ‘set_index()’ attribute, as shown below,\n",
    "m= df.set_index('name')\n",
    "print(m)"
   ]
  },
  {
   "cell_type": "code",
   "execution_count": 16,
   "metadata": {},
   "outputs": [
    {
     "data": {
      "text/html": [
       "<div>\n",
       "<style scoped>\n",
       "    .dataframe tbody tr th:only-of-type {\n",
       "        vertical-align: middle;\n",
       "    }\n",
       "\n",
       "    .dataframe tbody tr th {\n",
       "        vertical-align: top;\n",
       "    }\n",
       "\n",
       "    .dataframe thead th {\n",
       "        text-align: right;\n",
       "    }\n",
       "</style>\n",
       "<table border=\"1\" class=\"dataframe\">\n",
       "  <thead>\n",
       "    <tr style=\"text-align: right;\">\n",
       "      <th></th>\n",
       "      <th>name</th>\n",
       "      <th>date</th>\n",
       "      <th>shares</th>\n",
       "      <th>price</th>\n",
       "    </tr>\n",
       "  </thead>\n",
       "  <tbody>\n",
       "    <tr>\n",
       "      <th>1.</th>\n",
       "      <td>Manohar</td>\n",
       "      <td>2000-10-23</td>\n",
       "      <td>100</td>\n",
       "      <td>12.3</td>\n",
       "    </tr>\n",
       "    <tr>\n",
       "      <th>2.</th>\n",
       "      <td>Madhav</td>\n",
       "      <td>2000-02-10</td>\n",
       "      <td>100</td>\n",
       "      <td>10.3</td>\n",
       "    </tr>\n",
       "    <tr>\n",
       "      <th>3.</th>\n",
       "      <td>Venkat</td>\n",
       "      <td>2010-04-09</td>\n",
       "      <td>100</td>\n",
       "      <td>32.2</td>\n",
       "    </tr>\n",
       "  </tbody>\n",
       "</table>\n",
       "</div>"
      ],
      "text/plain": [
       "       name        date shares  price\n",
       "1.  Manohar  2000-10-23    100   12.3\n",
       "2.   Madhav  2000-02-10    100   10.3\n",
       "3.   Venkat  2010-04-09    100   32.2"
      ]
     },
     "execution_count": 16,
     "metadata": {},
     "output_type": "execute_result"
    }
   ],
   "source": [
    "# access data in rows and columns\n",
    "\n",
    "df[['name','date','shares','price']]"
   ]
  },
  {
   "cell_type": "code",
   "execution_count": 19,
   "metadata": {},
   "outputs": [
    {
     "name": "stdout",
     "output_type": "stream",
     "text": [
      "       name        date shares  price\n",
      "1.  Manohar  2000-10-23    100   12.3\n",
      "2.   Madhav  2000-02-10    100   10.3\n",
      "3.   Venkat  2010-04-09    100   32.2\n"
     ]
    }
   ],
   "source": [
    "df.drop('date',axis =1)\n",
    "print(df)"
   ]
  },
  {
   "cell_type": "code",
   "execution_count": null,
   "metadata": {},
   "outputs": [],
   "source": [
    "c = pd.read_csv(\"release_dates.csv\")\n",
    "c_amelia = c[ c['title'] == 'Amelia']\n",
    "print(c_amelia.head())"
   ]
  },
  {
   "cell_type": "markdown",
   "metadata": {},
   "source": [
    "Pandas provides rich set of functions to process various types of data. Further, working with Panda is fast, easy\n",
    "and more expressive than other tools. Pandas provides fast data processing as Numpy along with flexible data\n",
    "manipulation techniques as spreadsheets and relational databases. Lastly, pandas integrates well with matplotlib\n",
    "library, which makes it very handy tool for analyzing the data.\n",
    "Pandas provides two very useful data structures to process the data i.e. Series and DataFrame, which are discussed\n",
    "in this section"
   ]
  },
  {
   "cell_type": "code",
   "execution_count": null,
   "metadata": {},
   "outputs": [],
   "source": []
  }
 ],
 "metadata": {
  "kernelspec": {
   "display_name": "Python 3",
   "language": "python",
   "name": "python3"
  },
  "language_info": {
   "codemirror_mode": {
    "name": "ipython",
    "version": 3
   },
   "file_extension": ".py",
   "mimetype": "text/x-python",
   "name": "python",
   "nbconvert_exporter": "python",
   "pygments_lexer": "ipython3",
   "version": "3.8.8"
  }
 },
 "nbformat": 4,
 "nbformat_minor": 4
}
